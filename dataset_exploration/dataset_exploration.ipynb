{
 "cells": [
  {
   "cell_type": "code",
   "execution_count": 96,
   "id": "eabed61b",
   "metadata": {},
   "outputs": [],
   "source": [
    "import numpy as np; np.random.seed(1)\n",
    "import pandas as pd\n",
    "import json\n",
    "import matplotlib.pyplot as plt\n"
   ]
  },
  {
   "cell_type": "code",
   "execution_count": 201,
   "id": "84aaa96f",
   "metadata": {},
   "outputs": [
    {
     "data": {
      "text/plain": [
       "background                                                   []\n",
       "car                                                          []\n",
       "truck                                                        []\n",
       "bus                                                          []\n",
       "motorcycle                                                   []\n",
       "bicycle                                  [0.006802602283244001]\n",
       "scooter                                                      []\n",
       "person        [0.0037404669574490003, 0.008789230357384001, ...\n",
       "rider            [0.0038544035685030005, 0.0035896627324900005]\n",
       "Name: 0, dtype: object"
      ]
     },
     "execution_count": 201,
     "metadata": {},
     "output_type": "execute_result"
    }
   ],
   "source": [
    "df = pd.read_json('dataset_stats.json')\n",
    "df.loc[0]"
   ]
  },
  {
   "cell_type": "code",
   "execution_count": 200,
   "id": "35009082",
   "metadata": {},
   "outputs": [
    {
     "data": {
      "image/png": "[encoded data removed]",
      "text/plain": [
       "<Figure size 864x360 with 3 Axes>"
      ]
     },
     "metadata": {
      "needs_background": "light"
     },
     "output_type": "display_data"
    }
   ],
   "source": [
    "import matplotlib.pyplot as plt\n",
    "from matplotlib.ticker import MultipleLocator\n",
    "import numpy as np; np.random.seed(1)\n",
    "plt.rcParams[\"figure.figsize\"] = 5,2\n",
    "\n",
    "aspect_ratios = []\n",
    "with open('aspect_ratios.json') as f:\n",
    "    aspect_ratios = json.load(f)\n",
    "    \n",
    "y, x = np.histogram(aspect_ratios, bins=250)\n",
    "x = x[:-1]\n",
    "\n",
    "#x = np.linspace(-3,3)\n",
    "#y = np.cumsum(np.random.randn(50))+6\n",
    "\n",
    "fig, (ax1, ax2, ax3) = plt.subplots(nrows=3, sharex=True, figsize=(12, 5))\n",
    "ax1.xaxis.set_major_locator(MultipleLocator(5))\n",
    "\n",
    "\n",
    "extent = [x[0]-(x[1]-x[0])/2., x[-1]+(x[1]-x[0])/2.,0,1]\n",
    "ax1.imshow(y[np.newaxis,:], cmap=\"plasma\", aspect=\"auto\", extent=extent)\n",
    "ax1.set_yticks([])\n",
    "ax1.set_xlim(extent[0], extent[1])\n",
    "ax1.xaxis.set_major_locator(MultipleLocator(5))\n",
    "\n",
    "ax2.grid()\n",
    "ax2.plot(x,y)\n",
    "\n",
    "ax3.grid()\n",
    "ax3.boxplot(aspect_ratios, vert=False)\n",
    "ax3.set_yticks([])\n",
    "\n",
    "plt.tight_layout()\n",
    "plt.savefig('aspect_ratios.pdf')\n",
    "plt.show()\n"
   ]
  },
  {
   "cell_type": "code",
   "execution_count": 153,
   "id": "2146b290",
   "metadata": {},
   "outputs": [],
   "source": [
    "aspect_ratios = []\n",
    "with open('aspect_ratios.json') as f:\n",
    "    aspect_ratios = json.load(f)\n",
    "    \n",
    "x, y = np.histogram(aspect_ratios, bins=200)\n",
    "extent = [x[0]-(x[1]-x[0])/2., x[-1]+(x[1]-x[0])/2.,0,1]\n",
    "ax.imshow(y[np.newaxis,:], cmap=\"plasma\", aspect=\"auto\", extent=extent)\n",
    "\n",
    "plt.show()\n",
    "#plt.plot(data, type='scatter')"
   ]
  },
  {
   "cell_type": "code",
   "execution_count": 141,
   "id": "a9fd1c96",
   "metadata": {},
   "outputs": [
    {
     "data": {
      "text/plain": [
       "array([ 0.84616065, -0.01335529,  0.33719069, -0.97509273, -1.01378824,\n",
       "       -2.62956059, -1.50814288, -1.09924234, -1.1238593 , -1.89902092])"
      ]
     },
     "execution_count": 141,
     "metadata": {},
     "output_type": "execute_result"
    }
   ],
   "source": [
    "np.cumsum(np.random.randn(10))"
   ]
  },
  {
   "cell_type": "code",
   "execution_count": null,
   "id": "cda20cec",
   "metadata": {},
   "outputs": [
    {
     "name": "stdout",
     "output_type": "stream",
     "text": [
      "{'background': [], 'car': [], 'truck': [], 'bus': [], 'motorcycle': [], 'bicycle': [0.006802602283244141], 'scooter': [], 'person': [0.003740466957449229, 0.00878923035738488, 0.0011832445543262793, 0.0014773173669944129], 'rider': [0.0038544035685035283, 0.0035896627324909502]}\n",
      "('background', 'car', 'truck', 'bus', 'motorcycle', 'bicycle', 'scooter', 'person', 'rider') ([], [], [], [], [], [0.006802602283244141], [], [0.003740466957449229, 0.00878923035738488, 0.0011832445543262793, 0.0014773173669944129], [0.0038544035685035283, 0.0035896627324909502])\n"
     ]
    },
    {
     "data": {
      "image/png": "[encoded data removed]",
      "text/plain": [
       "<Figure size 432x288 with 1 Axes>"
      ]
     },
     "metadata": {
      "needs_background": "light"
     },
     "output_type": "display_data"
    }
   ],
   "source": [
    "print(dataset_stats[0])\n",
    "\n",
    "for stats in dataset_stats[:1]:\n",
    "\n",
    "    print(*zip(*stats.items()))\n",
    "    \n",
    "    plt.bar(*zip(*stats.items()))\n",
    "    plt.show()"
   ]
  },
  {
   "cell_type": "code",
   "execution_count": null,
   "id": "f5caed55",
   "metadata": {},
   "outputs": [],
   "source": []
  }
 ],
 "metadata": {
  "kernelspec": {
   "display_name": "Python 3.9.10 ('venv': venv)",
   "language": "python",
   "name": "python3910jvsc74a57bd0b3cceab2fa3ffd1b36f0d0b28a26bc9188076217d2d58e6b989aea28df0f3ae1"
  },
  "language_info": {
   "codemirror_mode": {
    "name": "ipython",
    "version": 3
   },
   "file_extension": ".py",
   "mimetype": "text/x-python",
   "name": "python",
   "nbconvert_exporter": "python",
   "pygments_lexer": "ipython3",
   "version": "3.9.12"
  }
 },
 "nbformat": 4,
 "nbformat_minor": 5
}
